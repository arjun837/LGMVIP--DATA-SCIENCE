{
  "cells": [
    {
      "cell_type": "markdown",
      "id": "67f2b918",
      "metadata": {
        "id": "67f2b918"
      },
      "source": [
        "**PARIKH ARJUN UMESH**\n",
        "\n",
        "**Handwritten equation solver using CNN :**\n",
        "\n",
        "**DATASET LINK :-**  https://medium.com/@vipul.gupta73921/handwritten-equation-solver-usingconvolutional-neural-network-a44acc0bd9f8 \n",
        "\n",
        "https://towardsdatascience.com/computer-vision-auto-grading-handwrittenmathematical-answersheets-8974744f72dd \n",
        "\n",
        "Part 1:- Data Extraction"
      ]
    },
    {
      "cell_type": "markdown",
      "id": "d6e7b3da",
      "metadata": {
        "id": "d6e7b3da"
      },
      "source": [
        "### Importing Libraries"
      ]
    },
    {
      "cell_type": "code",
      "execution_count": null,
      "id": "9c8432f3",
      "metadata": {
        "id": "9c8432f3"
      },
      "outputs": [],
      "source": [
        "import numpy as np\n",
        "import cv2\n",
        "from PIL import Image\n",
        "from matplotlib import pyplot as plt\n",
        "%matplotlib inline\n",
        "import os\n",
        "from os import listdir\n",
        "from os.path import isfile, join\n",
        "import pandas as pd"
      ]
    },
    {
      "cell_type": "code",
      "execution_count": null,
      "id": "d11c9aa9",
      "metadata": {
        "id": "d11c9aa9"
      },
      "outputs": [],
      "source": [
        "def load_images_from_folder(folder):\n",
        "    train_data=[]\n",
        "    for filename in os.listdir(folder):\n",
        "        img = cv2.imread(os.path.join(folder,filename),cv2.IMREAD_GRAYSCALE)\n",
        "        img=~img\n",
        "        if img is not None:\n",
        "            ret,thresh=cv2.threshold(img,127,255,cv2.THRESH_BINARY)\n",
        "\n",
        "            ctrs,ret=cv2.findContours(thresh,cv2.RETR_EXTERNAL,cv2.CHAIN_APPROX_NONE)\n",
        "            cnt=sorted(ctrs, key=lambda ctr: cv2.boundingRect(ctr)[0])\n",
        "            w=int(28)\n",
        "            h=int(28)\n",
        "            maxi=0\n",
        "            for c in cnt:\n",
        "                x,y,w,h=cv2.boundingRect(c)\n",
        "                maxi=max(w*h,maxi)\n",
        "                if maxi==w*h:\n",
        "                    x_max=x\n",
        "                    y_max=y\n",
        "                    w_max=w\n",
        "                    h_max=h\n",
        "            im_crop= thresh[y_max:y_max+h_max+10, x_max:x_max+w_max+10]\n",
        "            im_resize = cv2.resize(im_crop,(28,28))\n",
        "            im_resize=np.reshape(im_resize,(784,1))\n",
        "            train_data.append(im_resize)\n",
        "    return train_data"
      ]
    },
    {
      "cell_type": "code",
      "execution_count": null,
      "id": "fd70b6d8",
      "metadata": {
        "id": "fd70b6d8"
      },
      "outputs": [],
      "source": [
        "data=[]"
      ]
    },
    {
      "cell_type": "code",
      "execution_count": null,
      "id": "58c62909",
      "metadata": {
        "id": "58c62909",
        "outputId": "1e306bb3-6e34-48d5-9ab8-664971d26fd1"
      },
      "outputs": [
        {
          "name": "stdout",
          "output_type": "stream",
          "text": [
            "33997\n"
          ]
        }
      ],
      "source": [
        "# Assign '-' = 10\n",
        "data=load_images_from_folder('C://Users//Nishant//Downloads//data//extracted_images//-//')\n",
        "len(data)\n",
        "for i in range(0,len(data)):\n",
        "    data[i]=np.append(data[i],['10'])\n",
        "    \n",
        "print(len(data))"
      ]
    },
    {
      "cell_type": "code",
      "execution_count": null,
      "id": "49915300",
      "metadata": {
        "id": "49915300",
        "outputId": "75540508-12c1-46a2-8aef-6555b45816a0"
      },
      "outputs": [
        {
          "name": "stdout",
          "output_type": "stream",
          "text": [
            "59109\n"
          ]
        }
      ],
      "source": [
        "# Assign + = 11\n",
        "data11=load_images_from_folder('C://Users//Nishant//Downloads//data//extracted_images//+//')\n",
        "\n",
        "for i in range(0,len(data11)):\n",
        "    data11[i]=np.append(data11[i],['11'])\n",
        "data=np.concatenate((data,data11))\n",
        "print(len(data))"
      ]
    },
    {
      "cell_type": "code",
      "execution_count": null,
      "id": "f43ab30c",
      "metadata": {
        "id": "f43ab30c",
        "outputId": "7501cefe-8246-4439-bd6b-d27dfae764bf"
      },
      "outputs": [
        {
          "name": "stdout",
          "output_type": "stream",
          "text": [
            "66023\n"
          ]
        }
      ],
      "source": [
        "data0=load_images_from_folder('C://Users//Nishant//Downloads//data//extracted_images//0//')\n",
        "\n",
        "for i in range(0,len(data0)):\n",
        "    data0[i]=np.append(data0[i],['0'])\n",
        "data=np.concatenate((data,data0))\n",
        "print(len(data))"
      ]
    },
    {
      "cell_type": "code",
      "execution_count": null,
      "id": "d9d014a9",
      "metadata": {
        "id": "d9d014a9",
        "outputId": "f08a4a5d-4bf8-4a6c-b66d-063c22922348"
      },
      "outputs": [
        {
          "name": "stdout",
          "output_type": "stream",
          "text": [
            "92543\n"
          ]
        }
      ],
      "source": [
        "data1=load_images_from_folder('C://Users//Nishant//Downloads//data//extracted_images//1//')\n",
        "\n",
        "for i in range(0,len(data1)):\n",
        "    data1[i]=np.append(data1[i],['1'])\n",
        "data=np.concatenate((data,data1))\n",
        "print(len(data))"
      ]
    },
    {
      "cell_type": "code",
      "execution_count": null,
      "id": "e3c42338",
      "metadata": {
        "id": "e3c42338",
        "outputId": "8776a56d-7f1d-4bf1-8118-a1d179f65bc2"
      },
      "outputs": [
        {
          "name": "stdout",
          "output_type": "stream",
          "text": [
            "118684\n"
          ]
        }
      ],
      "source": [
        "data2=load_images_from_folder('C://Users//Nishant//Downloads//data//extracted_images//2//')\n",
        "\n",
        "for i in range(0,len(data2)):\n",
        "    data2[i]=np.append(data2[i],['2'])\n",
        "data=np.concatenate((data,data2))\n",
        "print(len(data))"
      ]
    },
    {
      "cell_type": "code",
      "execution_count": null,
      "id": "e4c9a894",
      "metadata": {
        "id": "e4c9a894",
        "outputId": "cffede38-28b5-47ca-bd90-f0e626c351d5"
      },
      "outputs": [
        {
          "name": "stdout",
          "output_type": "stream",
          "text": [
            "129593\n"
          ]
        }
      ],
      "source": [
        "data3=load_images_from_folder('C://Users//Nishant//Downloads//data//extracted_images//3//')\n",
        "\n",
        "for i in range(0,len(data3)):\n",
        "    data3[i]=np.append(data3[i],['3'])\n",
        "data=np.concatenate((data,data3))\n",
        "print(len(data))"
      ]
    },
    {
      "cell_type": "code",
      "execution_count": null,
      "id": "6c0effca",
      "metadata": {
        "id": "6c0effca",
        "outputId": "6afd3d48-3759-4361-e84c-4d74ad0eea6c"
      },
      "outputs": [
        {
          "name": "stdout",
          "output_type": "stream",
          "text": [
            "136989\n"
          ]
        }
      ],
      "source": [
        "data4=load_images_from_folder('C://Users//Nishant//Downloads//data//extracted_images//4//')\n",
        "\n",
        "for i in range(0,len(data4)):\n",
        "    data4[i]=np.append(data4[i],['4'])\n",
        "data=np.concatenate((data,data4))\n",
        "print(len(data))"
      ]
    },
    {
      "cell_type": "code",
      "execution_count": null,
      "id": "3bd79fbc",
      "metadata": {
        "id": "3bd79fbc",
        "outputId": "fbbfb7dc-12d0-48e0-9160-4fd72e02a870"
      },
      "outputs": [
        {
          "name": "stdout",
          "output_type": "stream",
          "text": [
            "140534\n"
          ]
        }
      ],
      "source": [
        "data5=load_images_from_folder('C://Users//Nishant//Downloads//data//extracted_images//5//')\n",
        "\n",
        "for i in range(0,len(data5)):\n",
        "    data5[i]=np.append(data5[i],['5'])\n",
        "data=np.concatenate((data,data5))\n",
        "print(len(data))"
      ]
    },
    {
      "cell_type": "code",
      "execution_count": null,
      "id": "699ba1e7",
      "metadata": {
        "id": "699ba1e7",
        "outputId": "6fcbfd22-12f9-481b-8680-65e8b82032b2"
      },
      "outputs": [
        {
          "name": "stdout",
          "output_type": "stream",
          "text": [
            "143652\n"
          ]
        }
      ],
      "source": [
        "data6=load_images_from_folder('C://Users//Nishant//Downloads//data//extracted_images//6//')\n",
        "\n",
        "for i in range(0,len(data6)):\n",
        "    data6[i]=np.append(data6[i],['6'])\n",
        "data=np.concatenate((data,data6))\n",
        "print(len(data))"
      ]
    },
    {
      "cell_type": "code",
      "execution_count": null,
      "id": "4b67296f",
      "metadata": {
        "id": "4b67296f",
        "outputId": "df4431df-d5c0-4f33-b5ed-091a5979abea"
      },
      "outputs": [
        {
          "name": "stdout",
          "output_type": "stream",
          "text": [
            "146561\n"
          ]
        }
      ],
      "source": [
        "data7=load_images_from_folder('C://Users//Nishant//Downloads//data//extracted_images//7//')\n",
        "\n",
        "for i in range(0,len(data7)):\n",
        "    data7[i]=np.append(data7[i],['7'])\n",
        "data=np.concatenate((data,data7))\n",
        "print(len(data))"
      ]
    },
    {
      "cell_type": "code",
      "execution_count": null,
      "id": "4a2ea1d5",
      "metadata": {
        "id": "4a2ea1d5",
        "outputId": "a41ef8d4-a165-4fa7-eabc-082431f5f8ba"
      },
      "outputs": [
        {
          "name": "stdout",
          "output_type": "stream",
          "text": [
            "156617\n"
          ]
        }
      ],
      "source": [
        "data8=load_images_from_folder('C://Users//Nishant//Downloads//data//extracted_images//8//')\n",
        "\n",
        "for i in range(0,len(data8)):\n",
        "    data8[i]=np.append(data8[i],['8'])\n",
        "data=np.concatenate((data,data8))\n",
        "print(len(data))"
      ]
    },
    {
      "cell_type": "code",
      "execution_count": null,
      "id": "6c86b649",
      "metadata": {
        "id": "6c86b649",
        "outputId": "79d36c84-ab6c-4f00-fb51-d90e9ad5bc6f"
      },
      "outputs": [
        {
          "name": "stdout",
          "output_type": "stream",
          "text": [
            "150298\n"
          ]
        }
      ],
      "source": [
        "data9=load_images_from_folder('C://Users//Nishant//Downloads//data//extracted_images//9//')\n",
        "\n",
        "for i in range(0,len(data9)):\n",
        "    data9[i]=np.append(data9[i],['9'])\n",
        "data=np.concatenate((data,data9))\n",
        "print(len(data))"
      ]
    },
    {
      "cell_type": "code",
      "execution_count": null,
      "id": "3bd4ff12",
      "metadata": {
        "id": "3bd4ff12",
        "outputId": "ce432010-7424-41c5-b664-c911758baba3"
      },
      "outputs": [
        {
          "name": "stdout",
          "output_type": "stream",
          "text": [
            "153549\n"
          ]
        }
      ],
      "source": [
        "data12=load_images_from_folder('C://Users//Nishant//Downloads//data//extracted_images//times//')\n",
        "\n",
        "for i in range(0,len(data12)):\n",
        "    data12[i]=np.append(data12[i],['12'])\n",
        "data=np.concatenate((data,data12))\n",
        "print(len(data))"
      ]
    },
    {
      "cell_type": "code",
      "execution_count": null,
      "id": "82e7b527",
      "metadata": {
        "id": "82e7b527"
      },
      "outputs": [],
      "source": [
        "df=pd.DataFrame(data,index=None)\n",
        "df.to_csv('train_final.csv',index=False)"
      ]
    },
    {
      "cell_type": "code",
      "execution_count": null,
      "id": "b3554e43",
      "metadata": {
        "id": "b3554e43"
      },
      "outputs": [],
      "source": [
        ""
      ]
    },
    {
      "cell_type": "code",
      "execution_count": null,
      "id": "63993f1d",
      "metadata": {
        "id": "63993f1d"
      },
      "outputs": [],
      "source": [
        ""
      ]
    }
  ],
  "metadata": {
    "kernelspec": {
      "display_name": "Python 3 (ipykernel)",
      "language": "python",
      "name": "python3"
    },
    "language_info": {
      "codemirror_mode": {
        "name": "ipython",
        "version": 3
      },
      "file_extension": ".py",
      "mimetype": "text/x-python",
      "name": "python",
      "nbconvert_exporter": "python",
      "pygments_lexer": "ipython3",
      "version": "3.8.5"
    },
    "colab": {
      "name": "Data_Extraction.ipynb",
      "provenance": []
    }
  },
  "nbformat": 4,
  "nbformat_minor": 5
}